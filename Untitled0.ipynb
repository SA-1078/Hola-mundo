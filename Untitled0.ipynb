{
  "nbformat": 4,
  "nbformat_minor": 0,
  "metadata": {
    "colab": {
      "provenance": [],
      "authorship_tag": "ABX9TyMAkDFrMpiKOLtcK0fDHRYc",
      "include_colab_link": true
    },
    "kernelspec": {
      "name": "python3",
      "display_name": "Python 3"
    },
    "language_info": {
      "name": "python"
    }
  },
  "cells": [
    {
      "cell_type": "markdown",
      "metadata": {
        "id": "view-in-github",
        "colab_type": "text"
      },
      "source": [
        "<a href=\"https://colab.research.google.com/github/SA-1078/Hola-mundo/blob/main/Untitled0.ipynb\" target=\"_parent\"><img src=\"https://colab.research.google.com/assets/colab-badge.svg\" alt=\"Open In Colab\"/></a>"
      ]
    },
    {
      "cell_type": "markdown",
      "source": [
        "Bloque de texto:\n",
        "SACAR RAIZ CUADRADA DE CUALQUIER NUMERO\n",
        "El codigo saca la raiz cuadrada de cualquier número, servirá solo si el valor ingresado es un numero positivo."
      ],
      "metadata": {
        "id": "Sz2KhG4q4keO"
      }
    },
    {
      "cell_type": "code",
      "execution_count": null,
      "metadata": {
        "colab": {
          "base_uri": "https://localhost:8080/"
        },
        "id": "gbsZ25Tq3QyY",
        "outputId": "effb16c6-4f23-4063-a557-4edbfe8c7fc0"
      },
      "outputs": [
        {
          "output_type": "stream",
          "name": "stdout",
          "text": [
            "Ingresa el número al que deseas calcular la raíz cuadrada: -6\n",
            "La raíz cuadrada de -6.0 es: No se puede calcular la raíz cuadrada de un número negativo.\n"
          ]
        }
      ],
      "source": [
        "1 # Bloque de codigo, aca copian el codigo de su programa y lo ejecutan\n",
        "\n",
        "\n",
        "\n",
        "import math\n",
        "\n",
        "# Definimos la función para calcular la raíz cuadrada\n",
        "def raiz_cuadrada(numero):\n",
        "    if numero < 0:\n",
        "        return \"No se puede calcular la raíz cuadrada de un número negativo.\"\n",
        "    return math.sqrt(numero)\n",
        "\n",
        "# Solicitamos el valor al usuario y llamamos a la función\n",
        "try:\n",
        "    numero = float(input(\"Ingresa el número al que deseas calcular la raíz cuadrada: \"))\n",
        "    resultado = raiz_cuadrada(numero)\n",
        "    print(f\"La raíz cuadrada de {numero} es: {resultado}\")\n",
        "except ValueError:\n",
        "    print(\"Por favor, ingresa un valor numérico válido.\")"
      ]
    },
    {
      "cell_type": "markdown",
      "source": [
        "Bloque de texto:\n",
        "CALCULAR IVA\n",
        "El codigo realiza el calculo el iva del monto dado"
      ],
      "metadata": {
        "id": "GEllq7kJ6l8Q"
      }
    },
    {
      "cell_type": "code",
      "source": [
        "# Realiza el calculo el iva del monto dado\n",
        "import math\n",
        "\n",
        "def calcular_iva(monto, iva= 0.15):\n",
        "    calculo = monto * iva\n",
        "    return calculo\n",
        "\n",
        "r = calcular_iva (120)\n",
        "print (f\"El IVA es: {r}\")\n",
        "\n",
        "r = calcular_iva (120, 0.2)\n",
        "print (f\"El IVA es: {r}\")"
      ],
      "metadata": {
        "colab": {
          "base_uri": "https://localhost:8080/"
        },
        "id": "JbbjCLIB4TT_",
        "outputId": "f6a094ec-f2cd-4208-919d-99601a6ec2f2"
      },
      "execution_count": null,
      "outputs": [
        {
          "output_type": "stream",
          "name": "stdout",
          "text": [
            "El IVA es: 18.0\n",
            "El IVA es: 24.0\n"
          ]
        }
      ]
    }
  ]
}